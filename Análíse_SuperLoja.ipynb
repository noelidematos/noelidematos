{
  "nbformat": 4,
  "nbformat_minor": 0,
  "metadata": {
    "colab": {
      "provenance": [],
      "authorship_tag": "ABX9TyOv6jamyLkUU3qINfDob1Lr",
      "include_colab_link": true
    },
    "kernelspec": {
      "name": "python3",
      "display_name": "Python 3"
    },
    "language_info": {
      "name": "python"
    }
  },
  "cells": [
    {
      "cell_type": "markdown",
      "metadata": {
        "id": "view-in-github",
        "colab_type": "text"
      },
      "source": [
        "<a href=\"https://colab.research.google.com/github/noelidematos/noelidematos/blob/main/An%C3%A1l%C3%ADse_SuperLoja.ipynb\" target=\"_parent\"><img src=\"https://colab.research.google.com/assets/colab-badge.svg\" alt=\"Open In Colab\"/></a>"
      ]
    },
    {
      "cell_type": "markdown",
      "source": [
        "#Introdução\n",
        "A análise abaixo foi feita utilizando dados do site: https://www.kaggle.com/datasets\n",
        "\n",
        "O objetivo desta análise é entender o perfil do consumidor ,lucratividade e responder algumas questões de negócio:\n",
        "  \n",
        "* Vendas por categoria ?\n",
        "* Qual modo de envio que é mais escolhido?\n",
        "* Qual são produtos mais vendidos?\n",
        "* Qual região possui o maior valor de vendas ?\n",
        "* Maior e menor lucro por segmento?\n",
        "* Maior e menor lucro baseado nos produtos?\n",
        "* Qual a prioridade de ordem para cada subcategoria?\n",
        "\n",
        "\n",
        "\n",
        "\n",
        "\n",
        "\n",
        "\n",
        "   \n",
        "\n"
      ],
      "metadata": {
        "id": "m3yi31h_98_I"
      }
    },
    {
      "cell_type": "markdown",
      "source": [
        "# Importando as bibliotecas que serão utilizadas"
      ],
      "metadata": {
        "id": "ClKACdnJhDtp"
      }
    },
    {
      "cell_type": "code",
      "source": [
        "#Importando as bibliotecas que seram usadas no projeto\n",
        "import pandas as pd\n",
        "import seaborn as sns\n",
        "import matplotlib.pyplot as plt\n",
        "import plotly.express as px\n",
        "import numpy as np"
      ],
      "metadata": {
        "id": "r3_w3-Op_qlT"
      },
      "execution_count": null,
      "outputs": []
    },
    {
      "cell_type": "code",
      "source": [
        "#importando o dataset\n",
        "dfLoja= pd.read_excel('/content/Global_Superstore2.xlsx')"
      ],
      "metadata": {
        "id": "QA91SfHX_5Cj",
        "outputId": "44ecd2ea-c888-451b-f837-bd7d6a4ee8ea",
        "colab": {
          "base_uri": "https://localhost:8080/",
          "height": 626
        }
      },
      "execution_count": null,
      "outputs": [
        {
          "output_type": "error",
          "ename": "FileNotFoundError",
          "evalue": "ignored",
          "traceback": [
            "\u001b[0;31m---------------------------------------------------------------------------\u001b[0m",
            "\u001b[0;31mFileNotFoundError\u001b[0m                         Traceback (most recent call last)",
            "\u001b[0;32m<ipython-input-2-962f3aa49a54>\u001b[0m in \u001b[0;36m<cell line: 2>\u001b[0;34m()\u001b[0m\n\u001b[1;32m      1\u001b[0m \u001b[0;31m#importando o dataset\u001b[0m\u001b[0;34m\u001b[0m\u001b[0;34m\u001b[0m\u001b[0m\n\u001b[0;32m----> 2\u001b[0;31m \u001b[0mdfLoja\u001b[0m\u001b[0;34m=\u001b[0m \u001b[0mpd\u001b[0m\u001b[0;34m.\u001b[0m\u001b[0mread_excel\u001b[0m\u001b[0;34m(\u001b[0m\u001b[0;34m'/content/Global_Superstore2.xlsx'\u001b[0m\u001b[0;34m)\u001b[0m\u001b[0;34m\u001b[0m\u001b[0;34m\u001b[0m\u001b[0m\n\u001b[0m",
            "\u001b[0;32m/usr/local/lib/python3.10/dist-packages/pandas/util/_decorators.py\u001b[0m in \u001b[0;36mwrapper\u001b[0;34m(*args, **kwargs)\u001b[0m\n\u001b[1;32m    209\u001b[0m                 \u001b[0;32melse\u001b[0m\u001b[0;34m:\u001b[0m\u001b[0;34m\u001b[0m\u001b[0;34m\u001b[0m\u001b[0m\n\u001b[1;32m    210\u001b[0m                     \u001b[0mkwargs\u001b[0m\u001b[0;34m[\u001b[0m\u001b[0mnew_arg_name\u001b[0m\u001b[0;34m]\u001b[0m \u001b[0;34m=\u001b[0m \u001b[0mnew_arg_value\u001b[0m\u001b[0;34m\u001b[0m\u001b[0;34m\u001b[0m\u001b[0m\n\u001b[0;32m--> 211\u001b[0;31m             \u001b[0;32mreturn\u001b[0m \u001b[0mfunc\u001b[0m\u001b[0;34m(\u001b[0m\u001b[0;34m*\u001b[0m\u001b[0margs\u001b[0m\u001b[0;34m,\u001b[0m \u001b[0;34m**\u001b[0m\u001b[0mkwargs\u001b[0m\u001b[0;34m)\u001b[0m\u001b[0;34m\u001b[0m\u001b[0;34m\u001b[0m\u001b[0m\n\u001b[0m\u001b[1;32m    212\u001b[0m \u001b[0;34m\u001b[0m\u001b[0m\n\u001b[1;32m    213\u001b[0m         \u001b[0;32mreturn\u001b[0m \u001b[0mcast\u001b[0m\u001b[0;34m(\u001b[0m\u001b[0mF\u001b[0m\u001b[0;34m,\u001b[0m \u001b[0mwrapper\u001b[0m\u001b[0;34m)\u001b[0m\u001b[0;34m\u001b[0m\u001b[0;34m\u001b[0m\u001b[0m\n",
            "\u001b[0;32m/usr/local/lib/python3.10/dist-packages/pandas/util/_decorators.py\u001b[0m in \u001b[0;36mwrapper\u001b[0;34m(*args, **kwargs)\u001b[0m\n\u001b[1;32m    329\u001b[0m                     \u001b[0mstacklevel\u001b[0m\u001b[0;34m=\u001b[0m\u001b[0mfind_stack_level\u001b[0m\u001b[0;34m(\u001b[0m\u001b[0;34m)\u001b[0m\u001b[0;34m,\u001b[0m\u001b[0;34m\u001b[0m\u001b[0;34m\u001b[0m\u001b[0m\n\u001b[1;32m    330\u001b[0m                 )\n\u001b[0;32m--> 331\u001b[0;31m             \u001b[0;32mreturn\u001b[0m \u001b[0mfunc\u001b[0m\u001b[0;34m(\u001b[0m\u001b[0;34m*\u001b[0m\u001b[0margs\u001b[0m\u001b[0;34m,\u001b[0m \u001b[0;34m**\u001b[0m\u001b[0mkwargs\u001b[0m\u001b[0;34m)\u001b[0m\u001b[0;34m\u001b[0m\u001b[0;34m\u001b[0m\u001b[0m\n\u001b[0m\u001b[1;32m    332\u001b[0m \u001b[0;34m\u001b[0m\u001b[0m\n\u001b[1;32m    333\u001b[0m         \u001b[0;31m# error: \"Callable[[VarArg(Any), KwArg(Any)], Any]\" has no\u001b[0m\u001b[0;34m\u001b[0m\u001b[0;34m\u001b[0m\u001b[0m\n",
            "\u001b[0;32m/usr/local/lib/python3.10/dist-packages/pandas/io/excel/_base.py\u001b[0m in \u001b[0;36mread_excel\u001b[0;34m(io, sheet_name, header, names, index_col, usecols, squeeze, dtype, engine, converters, true_values, false_values, skiprows, nrows, na_values, keep_default_na, na_filter, verbose, parse_dates, date_parser, thousands, decimal, comment, skipfooter, convert_float, mangle_dupe_cols, storage_options)\u001b[0m\n\u001b[1;32m    480\u001b[0m     \u001b[0;32mif\u001b[0m \u001b[0;32mnot\u001b[0m \u001b[0misinstance\u001b[0m\u001b[0;34m(\u001b[0m\u001b[0mio\u001b[0m\u001b[0;34m,\u001b[0m \u001b[0mExcelFile\u001b[0m\u001b[0;34m)\u001b[0m\u001b[0;34m:\u001b[0m\u001b[0;34m\u001b[0m\u001b[0;34m\u001b[0m\u001b[0m\n\u001b[1;32m    481\u001b[0m         \u001b[0mshould_close\u001b[0m \u001b[0;34m=\u001b[0m \u001b[0;32mTrue\u001b[0m\u001b[0;34m\u001b[0m\u001b[0;34m\u001b[0m\u001b[0m\n\u001b[0;32m--> 482\u001b[0;31m         \u001b[0mio\u001b[0m \u001b[0;34m=\u001b[0m \u001b[0mExcelFile\u001b[0m\u001b[0;34m(\u001b[0m\u001b[0mio\u001b[0m\u001b[0;34m,\u001b[0m \u001b[0mstorage_options\u001b[0m\u001b[0;34m=\u001b[0m\u001b[0mstorage_options\u001b[0m\u001b[0;34m,\u001b[0m \u001b[0mengine\u001b[0m\u001b[0;34m=\u001b[0m\u001b[0mengine\u001b[0m\u001b[0;34m)\u001b[0m\u001b[0;34m\u001b[0m\u001b[0;34m\u001b[0m\u001b[0m\n\u001b[0m\u001b[1;32m    483\u001b[0m     \u001b[0;32melif\u001b[0m \u001b[0mengine\u001b[0m \u001b[0;32mand\u001b[0m \u001b[0mengine\u001b[0m \u001b[0;34m!=\u001b[0m \u001b[0mio\u001b[0m\u001b[0;34m.\u001b[0m\u001b[0mengine\u001b[0m\u001b[0;34m:\u001b[0m\u001b[0;34m\u001b[0m\u001b[0;34m\u001b[0m\u001b[0m\n\u001b[1;32m    484\u001b[0m         raise ValueError(\n",
            "\u001b[0;32m/usr/local/lib/python3.10/dist-packages/pandas/io/excel/_base.py\u001b[0m in \u001b[0;36m__init__\u001b[0;34m(self, path_or_buffer, engine, storage_options)\u001b[0m\n\u001b[1;32m   1650\u001b[0m                 \u001b[0mext\u001b[0m \u001b[0;34m=\u001b[0m \u001b[0;34m\"xls\"\u001b[0m\u001b[0;34m\u001b[0m\u001b[0;34m\u001b[0m\u001b[0m\n\u001b[1;32m   1651\u001b[0m             \u001b[0;32melse\u001b[0m\u001b[0;34m:\u001b[0m\u001b[0;34m\u001b[0m\u001b[0;34m\u001b[0m\u001b[0m\n\u001b[0;32m-> 1652\u001b[0;31m                 ext = inspect_excel_format(\n\u001b[0m\u001b[1;32m   1653\u001b[0m                     \u001b[0mcontent_or_path\u001b[0m\u001b[0;34m=\u001b[0m\u001b[0mpath_or_buffer\u001b[0m\u001b[0;34m,\u001b[0m \u001b[0mstorage_options\u001b[0m\u001b[0;34m=\u001b[0m\u001b[0mstorage_options\u001b[0m\u001b[0;34m\u001b[0m\u001b[0;34m\u001b[0m\u001b[0m\n\u001b[1;32m   1654\u001b[0m                 )\n",
            "\u001b[0;32m/usr/local/lib/python3.10/dist-packages/pandas/io/excel/_base.py\u001b[0m in \u001b[0;36minspect_excel_format\u001b[0;34m(content_or_path, storage_options)\u001b[0m\n\u001b[1;32m   1523\u001b[0m         \u001b[0mcontent_or_path\u001b[0m \u001b[0;34m=\u001b[0m \u001b[0mBytesIO\u001b[0m\u001b[0;34m(\u001b[0m\u001b[0mcontent_or_path\u001b[0m\u001b[0;34m)\u001b[0m\u001b[0;34m\u001b[0m\u001b[0;34m\u001b[0m\u001b[0m\n\u001b[1;32m   1524\u001b[0m \u001b[0;34m\u001b[0m\u001b[0m\n\u001b[0;32m-> 1525\u001b[0;31m     with get_handle(\n\u001b[0m\u001b[1;32m   1526\u001b[0m         \u001b[0mcontent_or_path\u001b[0m\u001b[0;34m,\u001b[0m \u001b[0;34m\"rb\"\u001b[0m\u001b[0;34m,\u001b[0m \u001b[0mstorage_options\u001b[0m\u001b[0;34m=\u001b[0m\u001b[0mstorage_options\u001b[0m\u001b[0;34m,\u001b[0m \u001b[0mis_text\u001b[0m\u001b[0;34m=\u001b[0m\u001b[0;32mFalse\u001b[0m\u001b[0;34m\u001b[0m\u001b[0;34m\u001b[0m\u001b[0m\n\u001b[1;32m   1527\u001b[0m     ) as handle:\n",
            "\u001b[0;32m/usr/local/lib/python3.10/dist-packages/pandas/io/common.py\u001b[0m in \u001b[0;36mget_handle\u001b[0;34m(path_or_buf, mode, encoding, compression, memory_map, is_text, errors, storage_options)\u001b[0m\n\u001b[1;32m    863\u001b[0m         \u001b[0;32melse\u001b[0m\u001b[0;34m:\u001b[0m\u001b[0;34m\u001b[0m\u001b[0;34m\u001b[0m\u001b[0m\n\u001b[1;32m    864\u001b[0m             \u001b[0;31m# Binary mode\u001b[0m\u001b[0;34m\u001b[0m\u001b[0;34m\u001b[0m\u001b[0m\n\u001b[0;32m--> 865\u001b[0;31m             \u001b[0mhandle\u001b[0m \u001b[0;34m=\u001b[0m \u001b[0mopen\u001b[0m\u001b[0;34m(\u001b[0m\u001b[0mhandle\u001b[0m\u001b[0;34m,\u001b[0m \u001b[0mioargs\u001b[0m\u001b[0;34m.\u001b[0m\u001b[0mmode\u001b[0m\u001b[0;34m)\u001b[0m\u001b[0;34m\u001b[0m\u001b[0;34m\u001b[0m\u001b[0m\n\u001b[0m\u001b[1;32m    866\u001b[0m         \u001b[0mhandles\u001b[0m\u001b[0;34m.\u001b[0m\u001b[0mappend\u001b[0m\u001b[0;34m(\u001b[0m\u001b[0mhandle\u001b[0m\u001b[0;34m)\u001b[0m\u001b[0;34m\u001b[0m\u001b[0;34m\u001b[0m\u001b[0m\n\u001b[1;32m    867\u001b[0m \u001b[0;34m\u001b[0m\u001b[0m\n",
            "\u001b[0;31mFileNotFoundError\u001b[0m: [Errno 2] No such file or directory: '/content/Global_Superstore2.xlsx'"
          ]
        }
      ]
    },
    {
      "cell_type": "code",
      "source": [
        "#exibindo as 5 primeiras linhas do dataset\n",
        "dfLoja.head(5)"
      ],
      "metadata": {
        "colab": {
          "base_uri": "https://localhost:8080/",
          "height": 647
        },
        "id": "cgC_O82kAxPz",
        "outputId": "d287fcf8-a71f-4a14-9894-a4fd9be0b79b"
      },
      "execution_count": null,
      "outputs": [
        {
          "output_type": "execute_result",
          "data": {
            "text/plain": [
              "   Row ID         Order ID  Order Date   Ship Date     Ship Mode Customer ID  \\\n",
              "0   32298   CA-2012-124891  31-07-2012  31-07-2012      Same Day    RH-19495   \n",
              "1   26341    IN-2013-77878  05-02-2013  07-02-2013  Second Class    JR-16210   \n",
              "2   25330    IN-2013-71249  17-10-2013  18-10-2013   First Class    CR-12730   \n",
              "3   13524  ES-2013-1579342  28-01-2013  30-01-2013   First Class    KM-16375   \n",
              "4   47221     SG-2013-4320  05-11-2013  06-11-2013      Same Day     RH-9495   \n",
              "\n",
              "      Customer Name      Segment           City            State  ...  \\\n",
              "0       Rick Hansen     Consumer  New York City         New York  ...   \n",
              "1     Justin Ritter    Corporate     Wollongong  New South Wales  ...   \n",
              "2      Craig Reiter     Consumer       Brisbane       Queensland  ...   \n",
              "3  Katherine Murray  Home Office         Berlin           Berlin  ...   \n",
              "4       Rick Hansen     Consumer          Dakar            Dakar  ...   \n",
              "\n",
              "         Product ID    Category Sub-Category  \\\n",
              "0   TEC-AC-10003033  Technology  Accessories   \n",
              "1   FUR-CH-10003950   Furniture       Chairs   \n",
              "2   TEC-PH-10004664  Technology       Phones   \n",
              "3   TEC-PH-10004583  Technology       Phones   \n",
              "4  TEC-SHA-10000501  Technology      Copiers   \n",
              "\n",
              "                                        Product Name     Sales Quantity  \\\n",
              "0  Plantronics CS510 - Over-the-Head monaural Wir...  2309.650        7   \n",
              "1          Novimex Executive Leather Armchair, Black  3709.395        9   \n",
              "2                  Nokia Smart Phone, with Caller ID  5175.171        9   \n",
              "3                     Motorola Smart Phone, Cordless  2892.510        5   \n",
              "4                     Sharp Wireless Fax, High-Speed  2832.960        8   \n",
              "\n",
              "  Discount    Profit  Shipping Cost  Order Priority  \n",
              "0      0.0  762.1845         933.57        Critical  \n",
              "1      0.1 -288.7650         923.63        Critical  \n",
              "2      0.1  919.9710         915.49          Medium  \n",
              "3      0.1  -96.5400         910.16          Medium  \n",
              "4      0.0  311.5200         903.04        Critical  \n",
              "\n",
              "[5 rows x 24 columns]"
            ],
            "text/html": [
              "\n",
              "  <div id=\"df-dbfdfb98-8cd0-459d-8401-25135936fcba\">\n",
              "    <div class=\"colab-df-container\">\n",
              "      <div>\n",
              "<style scoped>\n",
              "    .dataframe tbody tr th:only-of-type {\n",
              "        vertical-align: middle;\n",
              "    }\n",
              "\n",
              "    .dataframe tbody tr th {\n",
              "        vertical-align: top;\n",
              "    }\n",
              "\n",
              "    .dataframe thead th {\n",
              "        text-align: right;\n",
              "    }\n",
              "</style>\n",
              "<table border=\"1\" class=\"dataframe\">\n",
              "  <thead>\n",
              "    <tr style=\"text-align: right;\">\n",
              "      <th></th>\n",
              "      <th>Row ID</th>\n",
              "      <th>Order ID</th>\n",
              "      <th>Order Date</th>\n",
              "      <th>Ship Date</th>\n",
              "      <th>Ship Mode</th>\n",
              "      <th>Customer ID</th>\n",
              "      <th>Customer Name</th>\n",
              "      <th>Segment</th>\n",
              "      <th>City</th>\n",
              "      <th>State</th>\n",
              "      <th>...</th>\n",
              "      <th>Product ID</th>\n",
              "      <th>Category</th>\n",
              "      <th>Sub-Category</th>\n",
              "      <th>Product Name</th>\n",
              "      <th>Sales</th>\n",
              "      <th>Quantity</th>\n",
              "      <th>Discount</th>\n",
              "      <th>Profit</th>\n",
              "      <th>Shipping Cost</th>\n",
              "      <th>Order Priority</th>\n",
              "    </tr>\n",
              "  </thead>\n",
              "  <tbody>\n",
              "    <tr>\n",
              "      <th>0</th>\n",
              "      <td>32298</td>\n",
              "      <td>CA-2012-124891</td>\n",
              "      <td>31-07-2012</td>\n",
              "      <td>31-07-2012</td>\n",
              "      <td>Same Day</td>\n",
              "      <td>RH-19495</td>\n",
              "      <td>Rick Hansen</td>\n",
              "      <td>Consumer</td>\n",
              "      <td>New York City</td>\n",
              "      <td>New York</td>\n",
              "      <td>...</td>\n",
              "      <td>TEC-AC-10003033</td>\n",
              "      <td>Technology</td>\n",
              "      <td>Accessories</td>\n",
              "      <td>Plantronics CS510 - Over-the-Head monaural Wir...</td>\n",
              "      <td>2309.650</td>\n",
              "      <td>7</td>\n",
              "      <td>0.0</td>\n",
              "      <td>762.1845</td>\n",
              "      <td>933.57</td>\n",
              "      <td>Critical</td>\n",
              "    </tr>\n",
              "    <tr>\n",
              "      <th>1</th>\n",
              "      <td>26341</td>\n",
              "      <td>IN-2013-77878</td>\n",
              "      <td>05-02-2013</td>\n",
              "      <td>07-02-2013</td>\n",
              "      <td>Second Class</td>\n",
              "      <td>JR-16210</td>\n",
              "      <td>Justin Ritter</td>\n",
              "      <td>Corporate</td>\n",
              "      <td>Wollongong</td>\n",
              "      <td>New South Wales</td>\n",
              "      <td>...</td>\n",
              "      <td>FUR-CH-10003950</td>\n",
              "      <td>Furniture</td>\n",
              "      <td>Chairs</td>\n",
              "      <td>Novimex Executive Leather Armchair, Black</td>\n",
              "      <td>3709.395</td>\n",
              "      <td>9</td>\n",
              "      <td>0.1</td>\n",
              "      <td>-288.7650</td>\n",
              "      <td>923.63</td>\n",
              "      <td>Critical</td>\n",
              "    </tr>\n",
              "    <tr>\n",
              "      <th>2</th>\n",
              "      <td>25330</td>\n",
              "      <td>IN-2013-71249</td>\n",
              "      <td>17-10-2013</td>\n",
              "      <td>18-10-2013</td>\n",
              "      <td>First Class</td>\n",
              "      <td>CR-12730</td>\n",
              "      <td>Craig Reiter</td>\n",
              "      <td>Consumer</td>\n",
              "      <td>Brisbane</td>\n",
              "      <td>Queensland</td>\n",
              "      <td>...</td>\n",
              "      <td>TEC-PH-10004664</td>\n",
              "      <td>Technology</td>\n",
              "      <td>Phones</td>\n",
              "      <td>Nokia Smart Phone, with Caller ID</td>\n",
              "      <td>5175.171</td>\n",
              "      <td>9</td>\n",
              "      <td>0.1</td>\n",
              "      <td>919.9710</td>\n",
              "      <td>915.49</td>\n",
              "      <td>Medium</td>\n",
              "    </tr>\n",
              "    <tr>\n",
              "      <th>3</th>\n",
              "      <td>13524</td>\n",
              "      <td>ES-2013-1579342</td>\n",
              "      <td>28-01-2013</td>\n",
              "      <td>30-01-2013</td>\n",
              "      <td>First Class</td>\n",
              "      <td>KM-16375</td>\n",
              "      <td>Katherine Murray</td>\n",
              "      <td>Home Office</td>\n",
              "      <td>Berlin</td>\n",
              "      <td>Berlin</td>\n",
              "      <td>...</td>\n",
              "      <td>TEC-PH-10004583</td>\n",
              "      <td>Technology</td>\n",
              "      <td>Phones</td>\n",
              "      <td>Motorola Smart Phone, Cordless</td>\n",
              "      <td>2892.510</td>\n",
              "      <td>5</td>\n",
              "      <td>0.1</td>\n",
              "      <td>-96.5400</td>\n",
              "      <td>910.16</td>\n",
              "      <td>Medium</td>\n",
              "    </tr>\n",
              "    <tr>\n",
              "      <th>4</th>\n",
              "      <td>47221</td>\n",
              "      <td>SG-2013-4320</td>\n",
              "      <td>05-11-2013</td>\n",
              "      <td>06-11-2013</td>\n",
              "      <td>Same Day</td>\n",
              "      <td>RH-9495</td>\n",
              "      <td>Rick Hansen</td>\n",
              "      <td>Consumer</td>\n",
              "      <td>Dakar</td>\n",
              "      <td>Dakar</td>\n",
              "      <td>...</td>\n",
              "      <td>TEC-SHA-10000501</td>\n",
              "      <td>Technology</td>\n",
              "      <td>Copiers</td>\n",
              "      <td>Sharp Wireless Fax, High-Speed</td>\n",
              "      <td>2832.960</td>\n",
              "      <td>8</td>\n",
              "      <td>0.0</td>\n",
              "      <td>311.5200</td>\n",
              "      <td>903.04</td>\n",
              "      <td>Critical</td>\n",
              "    </tr>\n",
              "  </tbody>\n",
              "</table>\n",
              "<p>5 rows × 24 columns</p>\n",
              "</div>\n",
              "      <button class=\"colab-df-convert\" onclick=\"convertToInteractive('df-dbfdfb98-8cd0-459d-8401-25135936fcba')\"\n",
              "              title=\"Convert this dataframe to an interactive table.\"\n",
              "              style=\"display:none;\">\n",
              "        \n",
              "  <svg xmlns=\"http://www.w3.org/2000/svg\" height=\"24px\"viewBox=\"0 0 24 24\"\n",
              "       width=\"24px\">\n",
              "    <path d=\"M0 0h24v24H0V0z\" fill=\"none\"/>\n",
              "    <path d=\"M18.56 5.44l.94 2.06.94-2.06 2.06-.94-2.06-.94-.94-2.06-.94 2.06-2.06.94zm-11 1L8.5 8.5l.94-2.06 2.06-.94-2.06-.94L8.5 2.5l-.94 2.06-2.06.94zm10 10l.94 2.06.94-2.06 2.06-.94-2.06-.94-.94-2.06-.94 2.06-2.06.94z\"/><path d=\"M17.41 7.96l-1.37-1.37c-.4-.4-.92-.59-1.43-.59-.52 0-1.04.2-1.43.59L10.3 9.45l-7.72 7.72c-.78.78-.78 2.05 0 2.83L4 21.41c.39.39.9.59 1.41.59.51 0 1.02-.2 1.41-.59l7.78-7.78 2.81-2.81c.8-.78.8-2.07 0-2.86zM5.41 20L4 18.59l7.72-7.72 1.47 1.35L5.41 20z\"/>\n",
              "  </svg>\n",
              "      </button>\n",
              "      \n",
              "  <style>\n",
              "    .colab-df-container {\n",
              "      display:flex;\n",
              "      flex-wrap:wrap;\n",
              "      gap: 12px;\n",
              "    }\n",
              "\n",
              "    .colab-df-convert {\n",
              "      background-color: #E8F0FE;\n",
              "      border: none;\n",
              "      border-radius: 50%;\n",
              "      cursor: pointer;\n",
              "      display: none;\n",
              "      fill: #1967D2;\n",
              "      height: 32px;\n",
              "      padding: 0 0 0 0;\n",
              "      width: 32px;\n",
              "    }\n",
              "\n",
              "    .colab-df-convert:hover {\n",
              "      background-color: #E2EBFA;\n",
              "      box-shadow: 0px 1px 2px rgba(60, 64, 67, 0.3), 0px 1px 3px 1px rgba(60, 64, 67, 0.15);\n",
              "      fill: #174EA6;\n",
              "    }\n",
              "\n",
              "    [theme=dark] .colab-df-convert {\n",
              "      background-color: #3B4455;\n",
              "      fill: #D2E3FC;\n",
              "    }\n",
              "\n",
              "    [theme=dark] .colab-df-convert:hover {\n",
              "      background-color: #434B5C;\n",
              "      box-shadow: 0px 1px 3px 1px rgba(0, 0, 0, 0.15);\n",
              "      filter: drop-shadow(0px 1px 2px rgba(0, 0, 0, 0.3));\n",
              "      fill: #FFFFFF;\n",
              "    }\n",
              "  </style>\n",
              "\n",
              "      <script>\n",
              "        const buttonEl =\n",
              "          document.querySelector('#df-dbfdfb98-8cd0-459d-8401-25135936fcba button.colab-df-convert');\n",
              "        buttonEl.style.display =\n",
              "          google.colab.kernel.accessAllowed ? 'block' : 'none';\n",
              "\n",
              "        async function convertToInteractive(key) {\n",
              "          const element = document.querySelector('#df-dbfdfb98-8cd0-459d-8401-25135936fcba');\n",
              "          const dataTable =\n",
              "            await google.colab.kernel.invokeFunction('convertToInteractive',\n",
              "                                                     [key], {});\n",
              "          if (!dataTable) return;\n",
              "\n",
              "          const docLinkHtml = 'Like what you see? Visit the ' +\n",
              "            '<a target=\"_blank\" href=https://colab.research.google.com/notebooks/data_table.ipynb>data table notebook</a>'\n",
              "            + ' to learn more about interactive tables.';\n",
              "          element.innerHTML = '';\n",
              "          dataTable['output_type'] = 'display_data';\n",
              "          await google.colab.output.renderOutput(dataTable, element);\n",
              "          const docLink = document.createElement('div');\n",
              "          docLink.innerHTML = docLinkHtml;\n",
              "          element.appendChild(docLink);\n",
              "        }\n",
              "      </script>\n",
              "    </div>\n",
              "  </div>\n",
              "  "
            ]
          },
          "metadata": {},
          "execution_count": 3
        }
      ]
    },
    {
      "cell_type": "code",
      "source": [
        "# O método info() imprime informações sobre o DataFrame\n",
        "#como número de colunas,rótulos de coluna,tipos de dados da coluna,uso de memória\n",
        "#indice de intervalo e o número de células em cada coluna(valores não nulos)\n",
        "dfLoja.info()"
      ],
      "metadata": {
        "colab": {
          "base_uri": "https://localhost:8080/"
        },
        "id": "xeTwRAMxAMpD",
        "outputId": "6839c88f-2020-4be8-9cfb-242cd5ab0b22"
      },
      "execution_count": null,
      "outputs": [
        {
          "output_type": "stream",
          "name": "stdout",
          "text": [
            "<class 'pandas.core.frame.DataFrame'>\n",
            "RangeIndex: 51290 entries, 0 to 51289\n",
            "Data columns (total 24 columns):\n",
            " #   Column          Non-Null Count  Dtype  \n",
            "---  ------          --------------  -----  \n",
            " 0   Row ID          51290 non-null  int64  \n",
            " 1   Order ID        51290 non-null  object \n",
            " 2   Order Date      51290 non-null  object \n",
            " 3   Ship Date       51290 non-null  object \n",
            " 4   Ship Mode       51290 non-null  object \n",
            " 5   Customer ID     51290 non-null  object \n",
            " 6   Customer Name   51290 non-null  object \n",
            " 7   Segment         51290 non-null  object \n",
            " 8   City            51290 non-null  object \n",
            " 9   State           51290 non-null  object \n",
            " 10  Country         51290 non-null  object \n",
            " 11  Postal Code     9994 non-null   float64\n",
            " 12  Market          51290 non-null  object \n",
            " 13  Region          51290 non-null  object \n",
            " 14  Product ID      51290 non-null  object \n",
            " 15  Category        51290 non-null  object \n",
            " 16  Sub-Category    51290 non-null  object \n",
            " 17  Product Name    51290 non-null  object \n",
            " 18  Sales           51290 non-null  float64\n",
            " 19  Quantity        51290 non-null  int64  \n",
            " 20  Discount        51290 non-null  float64\n",
            " 21  Profit          51290 non-null  float64\n",
            " 22  Shipping Cost   51290 non-null  float64\n",
            " 23  Order Priority  51290 non-null  object \n",
            "dtypes: float64(5), int64(2), object(17)\n",
            "memory usage: 9.4+ MB\n"
          ]
        }
      ]
    },
    {
      "cell_type": "code",
      "source": [
        "# O nome das colunas foi modificado  o intuito é facilitar o entendimento.\n",
        "dfLoja.rename( columns= { \"Row ID\":\"ID da Linha\",\n",
        "           \"Order ID\":\"ID do Pedido\",\n",
        "           \"Order Date\":\"Data do Pedido\",\n",
        "           \"Ship Date\":\"Data de envio\",\n",
        "           \"Ship Mode\":\"Modo de envio\",\n",
        "           \"Customer ID \":\"Identificação do Cliente\",\n",
        "           \"Customer Name\":\"Nome do Cliente\",\n",
        "           \"Segment\":\"Segmento\",\n",
        "           \"City\": \"Cidade\",\n",
        "           \"State\":\"Estado\",\n",
        "           \"Country\":\"Pais\",\n",
        "           \"Postal Code\":\"Código Postal\",\n",
        "           \"Market\":\"Mercado\",\n",
        "           \"Region\":\"Região\",\n",
        "           \"Product ID\":\"ID do Produto\",\n",
        "           \"Category\":\"Categoria\",\n",
        "           \"Sub-Category\":\"Subcategoria\",\n",
        "           \"Product Name\":\"Nome do Produto\",\n",
        "           \"Sales\":\"Vendas\",\n",
        "            \"Quantity\":\"Quantidade\",\n",
        "            \"Discount\":\"Desconto\",\n",
        "           \"Profit\":\"Lucro\",\n",
        "           \"Shipping Cost\":\"Frete\",\n",
        "           \"Order Priority\":\"Ordem Prioritária\"\n",
        "             },inplace=True)"
      ],
      "metadata": {
        "id": "oH5fXWY5D4cg"
      },
      "execution_count": null,
      "outputs": []
    },
    {
      "cell_type": "code",
      "source": [
        "# visualizando se foi modificado\n",
        "dfLoja.head(5)"
      ],
      "metadata": {
        "colab": {
          "base_uri": "https://localhost:8080/",
          "height": 664
        },
        "id": "UAVH-fLZEunE",
        "outputId": "455bdd3d-2d21-4f39-f240-86fa9134ae16"
      },
      "execution_count": null,
      "outputs": [
        {
          "output_type": "execute_result",
          "data": {
            "text/plain": [
              "   ID da Linha     ID do Pedido Data do Pedido Data de envio Modo de envio  \\\n",
              "0        32298   CA-2012-124891     31-07-2012    31-07-2012      Same Day   \n",
              "1        26341    IN-2013-77878     05-02-2013    07-02-2013  Second Class   \n",
              "2        25330    IN-2013-71249     17-10-2013    18-10-2013   First Class   \n",
              "3        13524  ES-2013-1579342     28-01-2013    30-01-2013   First Class   \n",
              "4        47221     SG-2013-4320     05-11-2013    06-11-2013      Same Day   \n",
              "\n",
              "  Customer ID   Nome do Cliente     Segmento         Cidade           Estado  \\\n",
              "0    RH-19495       Rick Hansen     Consumer  New York City         New York   \n",
              "1    JR-16210     Justin Ritter    Corporate     Wollongong  New South Wales   \n",
              "2    CR-12730      Craig Reiter     Consumer       Brisbane       Queensland   \n",
              "3    KM-16375  Katherine Murray  Home Office         Berlin           Berlin   \n",
              "4     RH-9495       Rick Hansen     Consumer          Dakar            Dakar   \n",
              "\n",
              "   ...     ID do Produto   Categoria Subcategoria  \\\n",
              "0  ...   TEC-AC-10003033  Technology  Accessories   \n",
              "1  ...   FUR-CH-10003950   Furniture       Chairs   \n",
              "2  ...   TEC-PH-10004664  Technology       Phones   \n",
              "3  ...   TEC-PH-10004583  Technology       Phones   \n",
              "4  ...  TEC-SHA-10000501  Technology      Copiers   \n",
              "\n",
              "                                     Nome do Produto    Vendas Quantidade  \\\n",
              "0  Plantronics CS510 - Over-the-Head monaural Wir...  2309.650          7   \n",
              "1          Novimex Executive Leather Armchair, Black  3709.395          9   \n",
              "2                  Nokia Smart Phone, with Caller ID  5175.171          9   \n",
              "3                     Motorola Smart Phone, Cordless  2892.510          5   \n",
              "4                     Sharp Wireless Fax, High-Speed  2832.960          8   \n",
              "\n",
              "  Desconto     Lucro   Frete  Ordem Prioritária  \n",
              "0      0.0  762.1845  933.57           Critical  \n",
              "1      0.1 -288.7650  923.63           Critical  \n",
              "2      0.1  919.9710  915.49             Medium  \n",
              "3      0.1  -96.5400  910.16             Medium  \n",
              "4      0.0  311.5200  903.04           Critical  \n",
              "\n",
              "[5 rows x 24 columns]"
            ],
            "text/html": [
              "\n",
              "  <div id=\"df-d2df144d-ee05-478a-8276-4f934326659d\">\n",
              "    <div class=\"colab-df-container\">\n",
              "      <div>\n",
              "<style scoped>\n",
              "    .dataframe tbody tr th:only-of-type {\n",
              "        vertical-align: middle;\n",
              "    }\n",
              "\n",
              "    .dataframe tbody tr th {\n",
              "        vertical-align: top;\n",
              "    }\n",
              "\n",
              "    .dataframe thead th {\n",
              "        text-align: right;\n",
              "    }\n",
              "</style>\n",
              "<table border=\"1\" class=\"dataframe\">\n",
              "  <thead>\n",
              "    <tr style=\"text-align: right;\">\n",
              "      <th></th>\n",
              "      <th>ID da Linha</th>\n",
              "      <th>ID do Pedido</th>\n",
              "      <th>Data do Pedido</th>\n",
              "      <th>Data de envio</th>\n",
              "      <th>Modo de envio</th>\n",
              "      <th>Customer ID</th>\n",
              "      <th>Nome do Cliente</th>\n",
              "      <th>Segmento</th>\n",
              "      <th>Cidade</th>\n",
              "      <th>Estado</th>\n",
              "      <th>...</th>\n",
              "      <th>ID do Produto</th>\n",
              "      <th>Categoria</th>\n",
              "      <th>Subcategoria</th>\n",
              "      <th>Nome do Produto</th>\n",
              "      <th>Vendas</th>\n",
              "      <th>Quantidade</th>\n",
              "      <th>Desconto</th>\n",
              "      <th>Lucro</th>\n",
              "      <th>Frete</th>\n",
              "      <th>Ordem Prioritária</th>\n",
              "    </tr>\n",
              "  </thead>\n",
              "  <tbody>\n",
              "    <tr>\n",
              "      <th>0</th>\n",
              "      <td>32298</td>\n",
              "      <td>CA-2012-124891</td>\n",
              "      <td>31-07-2012</td>\n",
              "      <td>31-07-2012</td>\n",
              "      <td>Same Day</td>\n",
              "      <td>RH-19495</td>\n",
              "      <td>Rick Hansen</td>\n",
              "      <td>Consumer</td>\n",
              "      <td>New York City</td>\n",
              "      <td>New York</td>\n",
              "      <td>...</td>\n",
              "      <td>TEC-AC-10003033</td>\n",
              "      <td>Technology</td>\n",
              "      <td>Accessories</td>\n",
              "      <td>Plantronics CS510 - Over-the-Head monaural Wir...</td>\n",
              "      <td>2309.650</td>\n",
              "      <td>7</td>\n",
              "      <td>0.0</td>\n",
              "      <td>762.1845</td>\n",
              "      <td>933.57</td>\n",
              "      <td>Critical</td>\n",
              "    </tr>\n",
              "    <tr>\n",
              "      <th>1</th>\n",
              "      <td>26341</td>\n",
              "      <td>IN-2013-77878</td>\n",
              "      <td>05-02-2013</td>\n",
              "      <td>07-02-2013</td>\n",
              "      <td>Second Class</td>\n",
              "      <td>JR-16210</td>\n",
              "      <td>Justin Ritter</td>\n",
              "      <td>Corporate</td>\n",
              "      <td>Wollongong</td>\n",
              "      <td>New South Wales</td>\n",
              "      <td>...</td>\n",
              "      <td>FUR-CH-10003950</td>\n",
              "      <td>Furniture</td>\n",
              "      <td>Chairs</td>\n",
              "      <td>Novimex Executive Leather Armchair, Black</td>\n",
              "      <td>3709.395</td>\n",
              "      <td>9</td>\n",
              "      <td>0.1</td>\n",
              "      <td>-288.7650</td>\n",
              "      <td>923.63</td>\n",
              "      <td>Critical</td>\n",
              "    </tr>\n",
              "    <tr>\n",
              "      <th>2</th>\n",
              "      <td>25330</td>\n",
              "      <td>IN-2013-71249</td>\n",
              "      <td>17-10-2013</td>\n",
              "      <td>18-10-2013</td>\n",
              "      <td>First Class</td>\n",
              "      <td>CR-12730</td>\n",
              "      <td>Craig Reiter</td>\n",
              "      <td>Consumer</td>\n",
              "      <td>Brisbane</td>\n",
              "      <td>Queensland</td>\n",
              "      <td>...</td>\n",
              "      <td>TEC-PH-10004664</td>\n",
              "      <td>Technology</td>\n",
              "      <td>Phones</td>\n",
              "      <td>Nokia Smart Phone, with Caller ID</td>\n",
              "      <td>5175.171</td>\n",
              "      <td>9</td>\n",
              "      <td>0.1</td>\n",
              "      <td>919.9710</td>\n",
              "      <td>915.49</td>\n",
              "      <td>Medium</td>\n",
              "    </tr>\n",
              "    <tr>\n",
              "      <th>3</th>\n",
              "      <td>13524</td>\n",
              "      <td>ES-2013-1579342</td>\n",
              "      <td>28-01-2013</td>\n",
              "      <td>30-01-2013</td>\n",
              "      <td>First Class</td>\n",
              "      <td>KM-16375</td>\n",
              "      <td>Katherine Murray</td>\n",
              "      <td>Home Office</td>\n",
              "      <td>Berlin</td>\n",
              "      <td>Berlin</td>\n",
              "      <td>...</td>\n",
              "      <td>TEC-PH-10004583</td>\n",
              "      <td>Technology</td>\n",
              "      <td>Phones</td>\n",
              "      <td>Motorola Smart Phone, Cordless</td>\n",
              "      <td>2892.510</td>\n",
              "      <td>5</td>\n",
              "      <td>0.1</td>\n",
              "      <td>-96.5400</td>\n",
              "      <td>910.16</td>\n",
              "      <td>Medium</td>\n",
              "    </tr>\n",
              "    <tr>\n",
              "      <th>4</th>\n",
              "      <td>47221</td>\n",
              "      <td>SG-2013-4320</td>\n",
              "      <td>05-11-2013</td>\n",
              "      <td>06-11-2013</td>\n",
              "      <td>Same Day</td>\n",
              "      <td>RH-9495</td>\n",
              "      <td>Rick Hansen</td>\n",
              "      <td>Consumer</td>\n",
              "      <td>Dakar</td>\n",
              "      <td>Dakar</td>\n",
              "      <td>...</td>\n",
              "      <td>TEC-SHA-10000501</td>\n",
              "      <td>Technology</td>\n",
              "      <td>Copiers</td>\n",
              "      <td>Sharp Wireless Fax, High-Speed</td>\n",
              "      <td>2832.960</td>\n",
              "      <td>8</td>\n",
              "      <td>0.0</td>\n",
              "      <td>311.5200</td>\n",
              "      <td>903.04</td>\n",
              "      <td>Critical</td>\n",
              "    </tr>\n",
              "  </tbody>\n",
              "</table>\n",
              "<p>5 rows × 24 columns</p>\n",
              "</div>\n",
              "      <button class=\"colab-df-convert\" onclick=\"convertToInteractive('df-d2df144d-ee05-478a-8276-4f934326659d')\"\n",
              "              title=\"Convert this dataframe to an interactive table.\"\n",
              "              style=\"display:none;\">\n",
              "        \n",
              "  <svg xmlns=\"http://www.w3.org/2000/svg\" height=\"24px\"viewBox=\"0 0 24 24\"\n",
              "       width=\"24px\">\n",
              "    <path d=\"M0 0h24v24H0V0z\" fill=\"none\"/>\n",
              "    <path d=\"M18.56 5.44l.94 2.06.94-2.06 2.06-.94-2.06-.94-.94-2.06-.94 2.06-2.06.94zm-11 1L8.5 8.5l.94-2.06 2.06-.94-2.06-.94L8.5 2.5l-.94 2.06-2.06.94zm10 10l.94 2.06.94-2.06 2.06-.94-2.06-.94-.94-2.06-.94 2.06-2.06.94z\"/><path d=\"M17.41 7.96l-1.37-1.37c-.4-.4-.92-.59-1.43-.59-.52 0-1.04.2-1.43.59L10.3 9.45l-7.72 7.72c-.78.78-.78 2.05 0 2.83L4 21.41c.39.39.9.59 1.41.59.51 0 1.02-.2 1.41-.59l7.78-7.78 2.81-2.81c.8-.78.8-2.07 0-2.86zM5.41 20L4 18.59l7.72-7.72 1.47 1.35L5.41 20z\"/>\n",
              "  </svg>\n",
              "      </button>\n",
              "      \n",
              "  <style>\n",
              "    .colab-df-container {\n",
              "      display:flex;\n",
              "      flex-wrap:wrap;\n",
              "      gap: 12px;\n",
              "    }\n",
              "\n",
              "    .colab-df-convert {\n",
              "      background-color: #E8F0FE;\n",
              "      border: none;\n",
              "      border-radius: 50%;\n",
              "      cursor: pointer;\n",
              "      display: none;\n",
              "      fill: #1967D2;\n",
              "      height: 32px;\n",
              "      padding: 0 0 0 0;\n",
              "      width: 32px;\n",
              "    }\n",
              "\n",
              "    .colab-df-convert:hover {\n",
              "      background-color: #E2EBFA;\n",
              "      box-shadow: 0px 1px 2px rgba(60, 64, 67, 0.3), 0px 1px 3px 1px rgba(60, 64, 67, 0.15);\n",
              "      fill: #174EA6;\n",
              "    }\n",
              "\n",
              "    [theme=dark] .colab-df-convert {\n",
              "      background-color: #3B4455;\n",
              "      fill: #D2E3FC;\n",
              "    }\n",
              "\n",
              "    [theme=dark] .colab-df-convert:hover {\n",
              "      background-color: #434B5C;\n",
              "      box-shadow: 0px 1px 3px 1px rgba(0, 0, 0, 0.15);\n",
              "      filter: drop-shadow(0px 1px 2px rgba(0, 0, 0, 0.3));\n",
              "      fill: #FFFFFF;\n",
              "    }\n",
              "  </style>\n",
              "\n",
              "      <script>\n",
              "        const buttonEl =\n",
              "          document.querySelector('#df-d2df144d-ee05-478a-8276-4f934326659d button.colab-df-convert');\n",
              "        buttonEl.style.display =\n",
              "          google.colab.kernel.accessAllowed ? 'block' : 'none';\n",
              "\n",
              "        async function convertToInteractive(key) {\n",
              "          const element = document.querySelector('#df-d2df144d-ee05-478a-8276-4f934326659d');\n",
              "          const dataTable =\n",
              "            await google.colab.kernel.invokeFunction('convertToInteractive',\n",
              "                                                     [key], {});\n",
              "          if (!dataTable) return;\n",
              "\n",
              "          const docLinkHtml = 'Like what you see? Visit the ' +\n",
              "            '<a target=\"_blank\" href=https://colab.research.google.com/notebooks/data_table.ipynb>data table notebook</a>'\n",
              "            + ' to learn more about interactive tables.';\n",
              "          element.innerHTML = '';\n",
              "          dataTable['output_type'] = 'display_data';\n",
              "          await google.colab.output.renderOutput(dataTable, element);\n",
              "          const docLink = document.createElement('div');\n",
              "          docLink.innerHTML = docLinkHtml;\n",
              "          element.appendChild(docLink);\n",
              "        }\n",
              "      </script>\n",
              "    </div>\n",
              "  </div>\n",
              "  "
            ]
          },
          "metadata": {},
          "execution_count": 6
        }
      ]
    },
    {
      "cell_type": "code",
      "source": [
        "# O método isnull( ) verifica se o valor é NAN ou não,combinando esse método junto com a\n",
        "# função sum( ), permite uma verificação de quantos dados NAN possuimos por coluna.\n",
        "dfLoja.isnull().sum()"
      ],
      "metadata": {
        "colab": {
          "base_uri": "https://localhost:8080/"
        },
        "id": "6EweMnTjFFhr",
        "outputId": "4fd011f4-6f1a-483c-e112-f3e24fda8aec"
      },
      "execution_count": null,
      "outputs": [
        {
          "output_type": "execute_result",
          "data": {
            "text/plain": [
              "ID da Linha              0\n",
              "ID do Pedido             0\n",
              "Data do Pedido           0\n",
              "Data de envio            0\n",
              "Modo de envio            0\n",
              "Customer ID              0\n",
              "Nome do Cliente          0\n",
              "Segmento                 0\n",
              "Cidade                   0\n",
              "Estado                   0\n",
              "Pais                     0\n",
              "Código Postal        41296\n",
              "Mercado                  0\n",
              "Região                   0\n",
              "ID do Produto            0\n",
              "Categoria                0\n",
              "Subcategoria             0\n",
              "Nome do Produto          0\n",
              "Vendas                   0\n",
              "Quantidade               0\n",
              "Desconto                 0\n",
              "Lucro                    0\n",
              "Frete                    0\n",
              "Ordem Prioritária        0\n",
              "dtype: int64"
            ]
          },
          "metadata": {},
          "execution_count": 7
        }
      ]
    },
    {
      "cell_type": "code",
      "source": [
        "#Removendo os valores NAN\n",
        "dfLoja.dropna(how='any',inplace=True)\n",
        "dfLoja.shape"
      ],
      "metadata": {
        "colab": {
          "base_uri": "https://localhost:8080/"
        },
        "id": "NOxIDMIcF0UX",
        "outputId": "22706dcf-ada2-495a-9b5b-6324a1c0ac06"
      },
      "execution_count": null,
      "outputs": [
        {
          "output_type": "execute_result",
          "data": {
            "text/plain": [
              "(9994, 24)"
            ]
          },
          "metadata": {},
          "execution_count": 8
        }
      ]
    },
    {
      "cell_type": "code",
      "source": [
        "dfLoja.isnull().sum()"
      ],
      "metadata": {
        "colab": {
          "base_uri": "https://localhost:8080/"
        },
        "id": "rqjHYXA_GUfV",
        "outputId": "1f54d73e-6277-4a29-8e71-b4487d769c06"
      },
      "execution_count": null,
      "outputs": [
        {
          "output_type": "execute_result",
          "data": {
            "text/plain": [
              "ID da Linha          0\n",
              "ID do Pedido         0\n",
              "Data do Pedido       0\n",
              "Data de envio        0\n",
              "Modo de envio        0\n",
              "Customer ID          0\n",
              "Nome do Cliente      0\n",
              "Segmento             0\n",
              "Cidade               0\n",
              "Estado               0\n",
              "Pais                 0\n",
              "Código Postal        0\n",
              "Mercado              0\n",
              "Região               0\n",
              "ID do Produto        0\n",
              "Categoria            0\n",
              "Subcategoria         0\n",
              "Nome do Produto      0\n",
              "Vendas               0\n",
              "Quantidade           0\n",
              "Desconto             0\n",
              "Lucro                0\n",
              "Frete                0\n",
              "Ordem Prioritária    0\n",
              "dtype: int64"
            ]
          },
          "metadata": {},
          "execution_count": 9
        }
      ]
    },
    {
      "cell_type": "code",
      "source": [
        "# utilizando o método Describe()  nos mostra uma estatistica do conjunto de dados,das colunas númericas\n",
        "dfLoja.describe()"
      ],
      "metadata": {
        "colab": {
          "base_uri": "https://localhost:8080/",
          "height": 300
        },
        "id": "dtCrbfhSGbLE",
        "outputId": "6b19d8c3-9163-4cd6-e2f4-0eb343b9c856"
      },
      "execution_count": null,
      "outputs": [
        {
          "output_type": "execute_result",
          "data": {
            "text/plain": [
              "        ID da Linha  Código Postal        Vendas   Quantidade     Desconto  \\\n",
              "count   9994.000000    9994.000000   9994.000000  9994.000000  9994.000000   \n",
              "mean   36293.500000   55190.379428    229.858001     3.789574     0.156203   \n",
              "std     2885.163629   32063.693350    623.245101     2.225110     0.206452   \n",
              "min    31297.000000    1040.000000      0.444000     1.000000     0.000000   \n",
              "25%    33795.250000   23223.000000     17.280000     2.000000     0.000000   \n",
              "50%    36293.500000   56430.500000     54.490000     3.000000     0.200000   \n",
              "75%    38791.750000   90008.000000    209.940000     5.000000     0.200000   \n",
              "max    41290.000000   99301.000000  22638.480000    14.000000     0.800000   \n",
              "\n",
              "             Lucro        Frete  \n",
              "count  9994.000000  9994.000000  \n",
              "mean     28.656896    23.831678  \n",
              "std     234.260108    58.962848  \n",
              "min   -6599.978000     0.010000  \n",
              "25%       1.728750     1.490000  \n",
              "50%       8.666500     5.100000  \n",
              "75%      29.364000    19.985000  \n",
              "max    8399.976000   933.570000  "
            ],
            "text/html": [
              "\n",
              "  <div id=\"df-d921abee-b822-45f5-a201-9c676d5ca90a\">\n",
              "    <div class=\"colab-df-container\">\n",
              "      <div>\n",
              "<style scoped>\n",
              "    .dataframe tbody tr th:only-of-type {\n",
              "        vertical-align: middle;\n",
              "    }\n",
              "\n",
              "    .dataframe tbody tr th {\n",
              "        vertical-align: top;\n",
              "    }\n",
              "\n",
              "    .dataframe thead th {\n",
              "        text-align: right;\n",
              "    }\n",
              "</style>\n",
              "<table border=\"1\" class=\"dataframe\">\n",
              "  <thead>\n",
              "    <tr style=\"text-align: right;\">\n",
              "      <th></th>\n",
              "      <th>ID da Linha</th>\n",
              "      <th>Código Postal</th>\n",
              "      <th>Vendas</th>\n",
              "      <th>Quantidade</th>\n",
              "      <th>Desconto</th>\n",
              "      <th>Lucro</th>\n",
              "      <th>Frete</th>\n",
              "    </tr>\n",
              "  </thead>\n",
              "  <tbody>\n",
              "    <tr>\n",
              "      <th>count</th>\n",
              "      <td>9994.000000</td>\n",
              "      <td>9994.000000</td>\n",
              "      <td>9994.000000</td>\n",
              "      <td>9994.000000</td>\n",
              "      <td>9994.000000</td>\n",
              "      <td>9994.000000</td>\n",
              "      <td>9994.000000</td>\n",
              "    </tr>\n",
              "    <tr>\n",
              "      <th>mean</th>\n",
              "      <td>36293.500000</td>\n",
              "      <td>55190.379428</td>\n",
              "      <td>229.858001</td>\n",
              "      <td>3.789574</td>\n",
              "      <td>0.156203</td>\n",
              "      <td>28.656896</td>\n",
              "      <td>23.831678</td>\n",
              "    </tr>\n",
              "    <tr>\n",
              "      <th>std</th>\n",
              "      <td>2885.163629</td>\n",
              "      <td>32063.693350</td>\n",
              "      <td>623.245101</td>\n",
              "      <td>2.225110</td>\n",
              "      <td>0.206452</td>\n",
              "      <td>234.260108</td>\n",
              "      <td>58.962848</td>\n",
              "    </tr>\n",
              "    <tr>\n",
              "      <th>min</th>\n",
              "      <td>31297.000000</td>\n",
              "      <td>1040.000000</td>\n",
              "      <td>0.444000</td>\n",
              "      <td>1.000000</td>\n",
              "      <td>0.000000</td>\n",
              "      <td>-6599.978000</td>\n",
              "      <td>0.010000</td>\n",
              "    </tr>\n",
              "    <tr>\n",
              "      <th>25%</th>\n",
              "      <td>33795.250000</td>\n",
              "      <td>23223.000000</td>\n",
              "      <td>17.280000</td>\n",
              "      <td>2.000000</td>\n",
              "      <td>0.000000</td>\n",
              "      <td>1.728750</td>\n",
              "      <td>1.490000</td>\n",
              "    </tr>\n",
              "    <tr>\n",
              "      <th>50%</th>\n",
              "      <td>36293.500000</td>\n",
              "      <td>56430.500000</td>\n",
              "      <td>54.490000</td>\n",
              "      <td>3.000000</td>\n",
              "      <td>0.200000</td>\n",
              "      <td>8.666500</td>\n",
              "      <td>5.100000</td>\n",
              "    </tr>\n",
              "    <tr>\n",
              "      <th>75%</th>\n",
              "      <td>38791.750000</td>\n",
              "      <td>90008.000000</td>\n",
              "      <td>209.940000</td>\n",
              "      <td>5.000000</td>\n",
              "      <td>0.200000</td>\n",
              "      <td>29.364000</td>\n",
              "      <td>19.985000</td>\n",
              "    </tr>\n",
              "    <tr>\n",
              "      <th>max</th>\n",
              "      <td>41290.000000</td>\n",
              "      <td>99301.000000</td>\n",
              "      <td>22638.480000</td>\n",
              "      <td>14.000000</td>\n",
              "      <td>0.800000</td>\n",
              "      <td>8399.976000</td>\n",
              "      <td>933.570000</td>\n",
              "    </tr>\n",
              "  </tbody>\n",
              "</table>\n",
              "</div>\n",
              "      <button class=\"colab-df-convert\" onclick=\"convertToInteractive('df-d921abee-b822-45f5-a201-9c676d5ca90a')\"\n",
              "              title=\"Convert this dataframe to an interactive table.\"\n",
              "              style=\"display:none;\">\n",
              "        \n",
              "  <svg xmlns=\"http://www.w3.org/2000/svg\" height=\"24px\"viewBox=\"0 0 24 24\"\n",
              "       width=\"24px\">\n",
              "    <path d=\"M0 0h24v24H0V0z\" fill=\"none\"/>\n",
              "    <path d=\"M18.56 5.44l.94 2.06.94-2.06 2.06-.94-2.06-.94-.94-2.06-.94 2.06-2.06.94zm-11 1L8.5 8.5l.94-2.06 2.06-.94-2.06-.94L8.5 2.5l-.94 2.06-2.06.94zm10 10l.94 2.06.94-2.06 2.06-.94-2.06-.94-.94-2.06-.94 2.06-2.06.94z\"/><path d=\"M17.41 7.96l-1.37-1.37c-.4-.4-.92-.59-1.43-.59-.52 0-1.04.2-1.43.59L10.3 9.45l-7.72 7.72c-.78.78-.78 2.05 0 2.83L4 21.41c.39.39.9.59 1.41.59.51 0 1.02-.2 1.41-.59l7.78-7.78 2.81-2.81c.8-.78.8-2.07 0-2.86zM5.41 20L4 18.59l7.72-7.72 1.47 1.35L5.41 20z\"/>\n",
              "  </svg>\n",
              "      </button>\n",
              "      \n",
              "  <style>\n",
              "    .colab-df-container {\n",
              "      display:flex;\n",
              "      flex-wrap:wrap;\n",
              "      gap: 12px;\n",
              "    }\n",
              "\n",
              "    .colab-df-convert {\n",
              "      background-color: #E8F0FE;\n",
              "      border: none;\n",
              "      border-radius: 50%;\n",
              "      cursor: pointer;\n",
              "      display: none;\n",
              "      fill: #1967D2;\n",
              "      height: 32px;\n",
              "      padding: 0 0 0 0;\n",
              "      width: 32px;\n",
              "    }\n",
              "\n",
              "    .colab-df-convert:hover {\n",
              "      background-color: #E2EBFA;\n",
              "      box-shadow: 0px 1px 2px rgba(60, 64, 67, 0.3), 0px 1px 3px 1px rgba(60, 64, 67, 0.15);\n",
              "      fill: #174EA6;\n",
              "    }\n",
              "\n",
              "    [theme=dark] .colab-df-convert {\n",
              "      background-color: #3B4455;\n",
              "      fill: #D2E3FC;\n",
              "    }\n",
              "\n",
              "    [theme=dark] .colab-df-convert:hover {\n",
              "      background-color: #434B5C;\n",
              "      box-shadow: 0px 1px 3px 1px rgba(0, 0, 0, 0.15);\n",
              "      filter: drop-shadow(0px 1px 2px rgba(0, 0, 0, 0.3));\n",
              "      fill: #FFFFFF;\n",
              "    }\n",
              "  </style>\n",
              "\n",
              "      <script>\n",
              "        const buttonEl =\n",
              "          document.querySelector('#df-d921abee-b822-45f5-a201-9c676d5ca90a button.colab-df-convert');\n",
              "        buttonEl.style.display =\n",
              "          google.colab.kernel.accessAllowed ? 'block' : 'none';\n",
              "\n",
              "        async function convertToInteractive(key) {\n",
              "          const element = document.querySelector('#df-d921abee-b822-45f5-a201-9c676d5ca90a');\n",
              "          const dataTable =\n",
              "            await google.colab.kernel.invokeFunction('convertToInteractive',\n",
              "                                                     [key], {});\n",
              "          if (!dataTable) return;\n",
              "\n",
              "          const docLinkHtml = 'Like what you see? Visit the ' +\n",
              "            '<a target=\"_blank\" href=https://colab.research.google.com/notebooks/data_table.ipynb>data table notebook</a>'\n",
              "            + ' to learn more about interactive tables.';\n",
              "          element.innerHTML = '';\n",
              "          dataTable['output_type'] = 'display_data';\n",
              "          await google.colab.output.renderOutput(dataTable, element);\n",
              "          const docLink = document.createElement('div');\n",
              "          docLink.innerHTML = docLinkHtml;\n",
              "          element.appendChild(docLink);\n",
              "        }\n",
              "      </script>\n",
              "    </div>\n",
              "  </div>\n",
              "  "
            ]
          },
          "metadata": {},
          "execution_count": 10
        }
      ]
    },
    {
      "cell_type": "code",
      "source": [
        "#Estatística descritiva apenas da coluna Vendas\n",
        "dfLoja['Vendas'].describe()"
      ],
      "metadata": {
        "colab": {
          "base_uri": "https://localhost:8080/"
        },
        "id": "gRzEbl4-PL9V",
        "outputId": "eafa4d9b-287f-44d1-9a01-00c42d314d6d"
      },
      "execution_count": null,
      "outputs": [
        {
          "output_type": "execute_result",
          "data": {
            "text/plain": [
              "count     9994.000000\n",
              "mean       229.858001\n",
              "std        623.245101\n",
              "min          0.444000\n",
              "25%         17.280000\n",
              "50%         54.490000\n",
              "75%        209.940000\n",
              "max      22638.480000\n",
              "Name: Vendas, dtype: float64"
            ]
          },
          "metadata": {},
          "execution_count": 11
        }
      ]
    },
    {
      "cell_type": "markdown",
      "source": [
        "Insights sobre o negócio\n",
        "\n",
        "Conseguimos através do gráfico indentificar que os volumes de compras são maiores na categoria Office Supplies do que nas outras duas categorias"
      ],
      "metadata": {
        "id": "AvrzaXX1Hf_p"
      }
    },
    {
      "cell_type": "code",
      "source": [
        "fig_size = (16,8)\n",
        "font_size = 16\n",
        "title_font_size = 20"
      ],
      "metadata": {
        "id": "o30Ld4vMCXDr"
      },
      "execution_count": null,
      "outputs": []
    },
    {
      "cell_type": "code",
      "source": [
        "# definição do gráfico de barras\n",
        "fig = plt.figure(figsize = fig_size)\n",
        "\n",
        "sns.barplot(x = dfLoja.Categoria.value_counts().index[:3],\n",
        "            y = dfLoja.Categoria.value_counts()[:3])\n",
        "\n",
        "# definição dos nomes dos eixos e título\n",
        "plt.xlabel('Categoria', fontsize = font_size)\n",
        "plt.ylabel('Vendas', fontsize = font_size)\n",
        "plt.title('Vendas por Categoria', fontsize = title_font_size)\n",
        "\n",
        "plt.show()"
      ],
      "metadata": {
        "colab": {
          "base_uri": "https://localhost:8080/",
          "height": 523
        },
        "id": "7oQX3YOLCYFM",
        "outputId": "10575164-3b49-4eb5-f841-22df4ce8ca99"
      },
      "execution_count": null,
      "outputs": [
        {
          "output_type": "display_data",
          "data": {
            "text/plain": [
              "<Figure size 1152x576 with 1 Axes>"
            ],
            "image/png": "[encoded data removed]"
          },
          "metadata": {
            "needs_background": "light"
          }
        }
      ]
    },
    {
      "cell_type": "markdown",
      "source": [
        "Histogramas são muito importantes, principalmente no contexto de análise de dados e inteligência artificial. Um histograma nada mais é que um gráfico de barras, onde a altura de cada barra representa o número de vezes que determinado valor foi observado."
      ],
      "metadata": {
        "id": "3hNivE0lI7Nr"
      }
    },
    {
      "cell_type": "markdown",
      "source": [
        " Insights sobre o negócio\n",
        "\n",
        "Modo de envio standard class é o tem mais preferência\n"
      ],
      "metadata": {
        "id": "EuYtiqo-V3zF"
      }
    },
    {
      "cell_type": "code",
      "source": [
        "sns.histplot( x='Modo de envio', data=dfLoja)\n",
        "#plt.xlim([0,2000])"
      ],
      "metadata": {
        "colab": {
          "base_uri": "https://localhost:8080/",
          "height": 296
        },
        "id": "BICfFcTbHMME",
        "outputId": "339748b9-db2c-442b-dcf6-6a4c80dbb286"
      },
      "execution_count": null,
      "outputs": [
        {
          "output_type": "execute_result",
          "data": {
            "text/plain": [
              "<matplotlib.axes._subplots.AxesSubplot at 0x7ff0f6e5f880>"
            ]
          },
          "metadata": {},
          "execution_count": 14
        },
        {
          "output_type": "display_data",
          "data": {
            "text/plain": [
              "<Figure size 432x288 with 1 Axes>"
            ],
            "image/png": "[encoded data removed]"
          },
          "metadata": {
            "needs_background": "light"
          }
        }
      ]
    },
    {
      "cell_type": "markdown",
      "source": [
        "Os 10 produtos mais comprados pelos clientes"
      ],
      "metadata": {
        "id": "NfDMsvzsWKbs"
      }
    },
    {
      "cell_type": "code",
      "source": [
        "fig_size = (18,8)\n",
        "font_size = 16\n",
        "title_font_size = 20"
      ],
      "metadata": {
        "id": "uDlkkY-7HvKT"
      },
      "execution_count": null,
      "outputs": []
    },
    {
      "cell_type": "code",
      "source": [
        "# definição do gráfico de barras\n",
        "fig = plt.figure(figsize = fig_size)\n",
        "\n",
        "sns.barplot(x = dfLoja.Subcategoria.value_counts().index[:10],\n",
        "            y = dfLoja.Subcategoria.value_counts()[:10])\n",
        "\n",
        "# definição dos nomes dos eixos e título\n",
        "plt.xlabel('Subcategoria', fontsize = font_size)\n",
        "plt.ylabel('Quantidade ', fontsize = font_size)\n",
        "plt.title(\"Os 10 produtos mais comprados pelos clientes\", fontsize = title_font_size)\n",
        "\n",
        "plt.show()"
      ],
      "metadata": {
        "colab": {
          "base_uri": "https://localhost:8080/",
          "height": 523
        },
        "id": "2HFynb2bIn7m",
        "outputId": "560c0442-bd3a-4c88-a941-cdb2f9becbd0"
      },
      "execution_count": null,
      "outputs": [
        {
          "output_type": "display_data",
          "data": {
            "text/plain": [
              "<Figure size 1296x576 with 1 Axes>"
            ],
            "image/png": "[encoded data removed]"
          },
          "metadata": {
            "needs_background": "light"
          }
        }
      ]
    },
    {
      "cell_type": "markdown",
      "source": [
        "Insights sobre o negócio\n",
        "\n",
        "Os principais itens comprados são da categoria de materiais de escritório.\n",
        "\n",
        "Pasta (fichário)e papéis recebeu mais de 10 mil pedidos!"
      ],
      "metadata": {
        "id": "bdJPamOJJSHi"
      }
    },
    {
      "cell_type": "markdown",
      "source": [
        "# Vendas por região"
      ],
      "metadata": {
        "id": "Ur_ftlp6MypW"
      }
    },
    {
      "cell_type": "markdown",
      "source": [
        "Insights sobre o negócio\n",
        "\n",
        "A região Sul, é a que tem maior número de vendas,seguida pela região Leste, Oeste e Central."
      ],
      "metadata": {
        "id": "L-1UREA-eFLy"
      }
    },
    {
      "cell_type": "markdown",
      "source": [
        "A região Oeste tem menor número de vendas uma oportunidade de criar estratégias, focadas para essa região\n",
        "vizando o aumento nas vendas."
      ],
      "metadata": {
        "id": "mJt8XTL83Ona"
      }
    },
    {
      "cell_type": "code",
      "source": [
        "def bar_plot_df(x_var, y_var, title):\n",
        "  # definição do gráfico de barras\n",
        "  fig = plt.figure(figsize = fig_size)\n",
        "  sns.barplot(x = x_var,\n",
        "              y = y_var,data=dfLoja)\n",
        "\n",
        "  # definição dos nomes dos eixos e título\n",
        "  plt.xlabel(x_var, fontsize = font_size)\n",
        "  plt.ylabel(y_var, fontsize = font_size)\n",
        "  plt.title(title, fontsize = title_font_size)\n",
        "\n",
        "  plt.show()"
      ],
      "metadata": {
        "id": "6vGbN8L_K-A_"
      },
      "execution_count": null,
      "outputs": []
    },
    {
      "cell_type": "code",
      "source": [
        "bar_plot_df('Região', 'Vendas', 'Vendas por Região')"
      ],
      "metadata": {
        "colab": {
          "base_uri": "https://localhost:8080/",
          "height": 523
        },
        "id": "W0gdR5GUNluz",
        "outputId": "0c0a93c1-a6fe-42a7-d716-3c8936a78839"
      },
      "execution_count": null,
      "outputs": [
        {
          "output_type": "display_data",
          "data": {
            "text/plain": [
              "<Figure size 1296x576 with 1 Axes>"
            ],
            "image/png": "[encoded data removed]"
          },
          "metadata": {
            "needs_background": "light"
          }
        }
      ]
    },
    {
      "cell_type": "markdown",
      "source": [
        "Insights sobre o negócio\n",
        "\n",
        "Maior e menor valor de lucro por segmento"
      ],
      "metadata": {
        "id": "BH50mEwdeNF1"
      }
    },
    {
      "cell_type": "code",
      "source": [
        "# organizando os dados,sumarizando alguns valores e realizando agregações com a função pivot_table\n",
        "pivot = pd.pivot_table(dfLoja, index = ['Segmento'],\n",
        "                       values = 'Lucro', aggfunc = 'sum')"
      ],
      "metadata": {
        "id": "sSb5gXaLc6Ai"
      },
      "execution_count": null,
      "outputs": []
    },
    {
      "cell_type": "code",
      "source": [
        "pivot.style.format({'Lucro':'R$ {:,.0f}'})"
      ],
      "metadata": {
        "colab": {
          "base_uri": "https://localhost:8080/",
          "height": 175
        },
        "id": "kxqSoM5Acpcx",
        "outputId": "292fed57-5e2b-495e-b869-f00705e67612"
      },
      "execution_count": null,
      "outputs": [
        {
          "output_type": "execute_result",
          "data": {
            "text/plain": [
              "<pandas.io.formats.style.Styler at 0x7ff0f70b2220>"
            ],
            "text/html": [
              "<style type=\"text/css\">\n",
              "</style>\n",
              "<table id=\"T_12f43_\" class=\"dataframe\">\n",
              "  <thead>\n",
              "    <tr>\n",
              "      <th class=\"blank level0\" >&nbsp;</th>\n",
              "      <th class=\"col_heading level0 col0\" >Lucro</th>\n",
              "    </tr>\n",
              "    <tr>\n",
              "      <th class=\"index_name level0\" >Segmento</th>\n",
              "      <th class=\"blank col0\" >&nbsp;</th>\n",
              "    </tr>\n",
              "  </thead>\n",
              "  <tbody>\n",
              "    <tr>\n",
              "      <th id=\"T_12f43_level0_row0\" class=\"row_heading level0 row0\" >Consumer</th>\n",
              "      <td id=\"T_12f43_row0_col0\" class=\"data row0 col0\" >R$ 134,119</td>\n",
              "    </tr>\n",
              "    <tr>\n",
              "      <th id=\"T_12f43_level0_row1\" class=\"row_heading level0 row1\" >Corporate</th>\n",
              "      <td id=\"T_12f43_row1_col0\" class=\"data row1 col0\" >R$ 91,979</td>\n",
              "    </tr>\n",
              "    <tr>\n",
              "      <th id=\"T_12f43_level0_row2\" class=\"row_heading level0 row2\" >Home Office</th>\n",
              "      <td id=\"T_12f43_row2_col0\" class=\"data row2 col0\" >R$ 60,299</td>\n",
              "    </tr>\n",
              "  </tbody>\n",
              "</table>\n"
            ]
          },
          "metadata": {},
          "execution_count": 20
        }
      ]
    },
    {
      "cell_type": "markdown",
      "source": [
        "  Insights sobre o negócio\n",
        "\n",
        "  Maior e menor valor de lucro por produto\n",
        "  \n",
        "  Os 10 produtos mais vendidos não são os mais lucrativos para o negócio"
      ],
      "metadata": {
        "id": "9E19qVekd1cK"
      }
    },
    {
      "cell_type": "code",
      "source": [
        "pivot = pd.pivot_table(dfLoja, index = ['Subcategoria'],\n",
        "                       values = 'Lucro', aggfunc = 'sum')"
      ],
      "metadata": {
        "id": "GkM74G4blCF6"
      },
      "execution_count": null,
      "outputs": []
    },
    {
      "cell_type": "code",
      "source": [
        "\n",
        "pivot_highlight = pivot.style.format({'Lucro':'R$ {:,.0f}'})\\\n",
        "   .highlight_max(color='green')\\\n",
        "   .highlight_min(color='red')\n",
        "\n",
        "pivot_highlight\n"
      ],
      "metadata": {
        "colab": {
          "base_uri": "https://localhost:8080/",
          "height": 614
        },
        "id": "_HRiPfPbkKsz",
        "outputId": "66ceb0e0-cae7-4314-c3dd-dd0e79373457"
      },
      "execution_count": null,
      "outputs": [
        {
          "output_type": "execute_result",
          "data": {
            "text/plain": [
              "<pandas.io.formats.style.Styler at 0x7ff0f6edc5b0>"
            ],
            "text/html": [
              "<style type=\"text/css\">\n",
              "#T_6bfd6_row6_col0 {\n",
              "  background-color: green;\n",
              "}\n",
              "#T_6bfd6_row16_col0 {\n",
              "  background-color: red;\n",
              "}\n",
              "</style>\n",
              "<table id=\"T_6bfd6_\" class=\"dataframe\">\n",
              "  <thead>\n",
              "    <tr>\n",
              "      <th class=\"blank level0\" >&nbsp;</th>\n",
              "      <th class=\"col_heading level0 col0\" >Lucro</th>\n",
              "    </tr>\n",
              "    <tr>\n",
              "      <th class=\"index_name level0\" >Subcategoria</th>\n",
              "      <th class=\"blank col0\" >&nbsp;</th>\n",
              "    </tr>\n",
              "  </thead>\n",
              "  <tbody>\n",
              "    <tr>\n",
              "      <th id=\"T_6bfd6_level0_row0\" class=\"row_heading level0 row0\" >Accessories</th>\n",
              "      <td id=\"T_6bfd6_row0_col0\" class=\"data row0 col0\" >R$ 41,937</td>\n",
              "    </tr>\n",
              "    <tr>\n",
              "      <th id=\"T_6bfd6_level0_row1\" class=\"row_heading level0 row1\" >Appliances</th>\n",
              "      <td id=\"T_6bfd6_row1_col0\" class=\"data row1 col0\" >R$ 18,138</td>\n",
              "    </tr>\n",
              "    <tr>\n",
              "      <th id=\"T_6bfd6_level0_row2\" class=\"row_heading level0 row2\" >Art</th>\n",
              "      <td id=\"T_6bfd6_row2_col0\" class=\"data row2 col0\" >R$ 6,528</td>\n",
              "    </tr>\n",
              "    <tr>\n",
              "      <th id=\"T_6bfd6_level0_row3\" class=\"row_heading level0 row3\" >Binders</th>\n",
              "      <td id=\"T_6bfd6_row3_col0\" class=\"data row3 col0\" >R$ 30,222</td>\n",
              "    </tr>\n",
              "    <tr>\n",
              "      <th id=\"T_6bfd6_level0_row4\" class=\"row_heading level0 row4\" >Bookcases</th>\n",
              "      <td id=\"T_6bfd6_row4_col0\" class=\"data row4 col0\" >R$ -3,473</td>\n",
              "    </tr>\n",
              "    <tr>\n",
              "      <th id=\"T_6bfd6_level0_row5\" class=\"row_heading level0 row5\" >Chairs</th>\n",
              "      <td id=\"T_6bfd6_row5_col0\" class=\"data row5 col0\" >R$ 26,590</td>\n",
              "    </tr>\n",
              "    <tr>\n",
              "      <th id=\"T_6bfd6_level0_row6\" class=\"row_heading level0 row6\" >Copiers</th>\n",
              "      <td id=\"T_6bfd6_row6_col0\" class=\"data row6 col0\" >R$ 55,618</td>\n",
              "    </tr>\n",
              "    <tr>\n",
              "      <th id=\"T_6bfd6_level0_row7\" class=\"row_heading level0 row7\" >Envelopes</th>\n",
              "      <td id=\"T_6bfd6_row7_col0\" class=\"data row7 col0\" >R$ 6,964</td>\n",
              "    </tr>\n",
              "    <tr>\n",
              "      <th id=\"T_6bfd6_level0_row8\" class=\"row_heading level0 row8\" >Fasteners</th>\n",
              "      <td id=\"T_6bfd6_row8_col0\" class=\"data row8 col0\" >R$ 950</td>\n",
              "    </tr>\n",
              "    <tr>\n",
              "      <th id=\"T_6bfd6_level0_row9\" class=\"row_heading level0 row9\" >Furnishings</th>\n",
              "      <td id=\"T_6bfd6_row9_col0\" class=\"data row9 col0\" >R$ 13,059</td>\n",
              "    </tr>\n",
              "    <tr>\n",
              "      <th id=\"T_6bfd6_level0_row10\" class=\"row_heading level0 row10\" >Labels</th>\n",
              "      <td id=\"T_6bfd6_row10_col0\" class=\"data row10 col0\" >R$ 5,546</td>\n",
              "    </tr>\n",
              "    <tr>\n",
              "      <th id=\"T_6bfd6_level0_row11\" class=\"row_heading level0 row11\" >Machines</th>\n",
              "      <td id=\"T_6bfd6_row11_col0\" class=\"data row11 col0\" >R$ 3,385</td>\n",
              "    </tr>\n",
              "    <tr>\n",
              "      <th id=\"T_6bfd6_level0_row12\" class=\"row_heading level0 row12\" >Paper</th>\n",
              "      <td id=\"T_6bfd6_row12_col0\" class=\"data row12 col0\" >R$ 34,054</td>\n",
              "    </tr>\n",
              "    <tr>\n",
              "      <th id=\"T_6bfd6_level0_row13\" class=\"row_heading level0 row13\" >Phones</th>\n",
              "      <td id=\"T_6bfd6_row13_col0\" class=\"data row13 col0\" >R$ 44,516</td>\n",
              "    </tr>\n",
              "    <tr>\n",
              "      <th id=\"T_6bfd6_level0_row14\" class=\"row_heading level0 row14\" >Storage</th>\n",
              "      <td id=\"T_6bfd6_row14_col0\" class=\"data row14 col0\" >R$ 21,279</td>\n",
              "    </tr>\n",
              "    <tr>\n",
              "      <th id=\"T_6bfd6_level0_row15\" class=\"row_heading level0 row15\" >Supplies</th>\n",
              "      <td id=\"T_6bfd6_row15_col0\" class=\"data row15 col0\" >R$ -1,189</td>\n",
              "    </tr>\n",
              "    <tr>\n",
              "      <th id=\"T_6bfd6_level0_row16\" class=\"row_heading level0 row16\" >Tables</th>\n",
              "      <td id=\"T_6bfd6_row16_col0\" class=\"data row16 col0\" >R$ -17,725</td>\n",
              "    </tr>\n",
              "  </tbody>\n",
              "</table>\n"
            ]
          },
          "metadata": {},
          "execution_count": 22
        }
      ]
    },
    {
      "cell_type": "markdown",
      "source": [
        "Usando scatterplot para avaliar a distribuição dos pedidos de ordem prioritária em cada subcategoria."
      ],
      "metadata": {
        "id": "5PhFMcOSJsL0"
      }
    },
    {
      "cell_type": "code",
      "source": [
        "#Scatterplot - Distribuição bivariada\n",
        "sns.jointplot(x='Ordem Prioritária',y='Subcategoria',data= dfLoja)"
      ],
      "metadata": {
        "colab": {
          "base_uri": "https://localhost:8080/",
          "height": 458
        },
        "id": "LZOwh9DgJtLx",
        "outputId": "e5d9c3bc-8701-4b9a-9d09-6af91afac835"
      },
      "execution_count": null,
      "outputs": [
        {
          "output_type": "execute_result",
          "data": {
            "text/plain": [
              "<seaborn.axisgrid.JointGrid at 0x7ff0f80e9460>"
            ]
          },
          "metadata": {},
          "execution_count": 23
        },
        {
          "output_type": "display_data",
          "data": {
            "text/plain": [
              "<Figure size 432x432 with 3 Axes>"
            ],
            "image/png": "[encoded data removed]"
          },
          "metadata": {
            "needs_background": "light"
          }
        }
      ]
    },
    {
      "cell_type": "code",
      "source": [
        "#Correlação entre as variavéis númericas do dataset\n",
        "dfLoja.corr()"
      ],
      "metadata": {
        "colab": {
          "base_uri": "https://localhost:8080/",
          "height": 269
        },
        "id": "zjqIrONymLdW",
        "outputId": "a8eb79c5-f9b6-480f-e4ee-e14b3c2982e4"
      },
      "execution_count": null,
      "outputs": [
        {
          "output_type": "execute_result",
          "data": {
            "text/plain": [
              "               ID da Linha  Código Postal    Vendas  Quantidade  Desconto  \\\n",
              "ID da Linha       1.000000       0.009671 -0.001359   -0.004016  0.013480   \n",
              "Código Postal     0.009671       1.000000 -0.023854    0.012761  0.058443   \n",
              "Vendas           -0.001359      -0.023854  1.000000    0.200795 -0.028190   \n",
              "Quantidade       -0.004016       0.012761  0.200795    1.000000  0.008623   \n",
              "Desconto          0.013480       0.058443 -0.028190    0.008623  1.000000   \n",
              "Lucro             0.012497      -0.029961  0.479064    0.066253 -0.219487   \n",
              "Frete            -0.017545      -0.025449  0.677279    0.221305 -0.030117   \n",
              "\n",
              "                  Lucro     Frete  \n",
              "ID da Linha    0.012497 -0.017545  \n",
              "Código Postal -0.029961 -0.025449  \n",
              "Vendas         0.479064  0.677279  \n",
              "Quantidade     0.066253  0.221305  \n",
              "Desconto      -0.219487 -0.030117  \n",
              "Lucro          1.000000  0.283280  \n",
              "Frete          0.283280  1.000000  "
            ],
            "text/html": [
              "\n",
              "  <div id=\"df-c849262d-82a9-4de1-806a-79982b955934\">\n",
              "    <div class=\"colab-df-container\">\n",
              "      <div>\n",
              "<style scoped>\n",
              "    .dataframe tbody tr th:only-of-type {\n",
              "        vertical-align: middle;\n",
              "    }\n",
              "\n",
              "    .dataframe tbody tr th {\n",
              "        vertical-align: top;\n",
              "    }\n",
              "\n",
              "    .dataframe thead th {\n",
              "        text-align: right;\n",
              "    }\n",
              "</style>\n",
              "<table border=\"1\" class=\"dataframe\">\n",
              "  <thead>\n",
              "    <tr style=\"text-align: right;\">\n",
              "      <th></th>\n",
              "      <th>ID da Linha</th>\n",
              "      <th>Código Postal</th>\n",
              "      <th>Vendas</th>\n",
              "      <th>Quantidade</th>\n",
              "      <th>Desconto</th>\n",
              "      <th>Lucro</th>\n",
              "      <th>Frete</th>\n",
              "    </tr>\n",
              "  </thead>\n",
              "  <tbody>\n",
              "    <tr>\n",
              "      <th>ID da Linha</th>\n",
              "      <td>1.000000</td>\n",
              "      <td>0.009671</td>\n",
              "      <td>-0.001359</td>\n",
              "      <td>-0.004016</td>\n",
              "      <td>0.013480</td>\n",
              "      <td>0.012497</td>\n",
              "      <td>-0.017545</td>\n",
              "    </tr>\n",
              "    <tr>\n",
              "      <th>Código Postal</th>\n",
              "      <td>0.009671</td>\n",
              "      <td>1.000000</td>\n",
              "      <td>-0.023854</td>\n",
              "      <td>0.012761</td>\n",
              "      <td>0.058443</td>\n",
              "      <td>-0.029961</td>\n",
              "      <td>-0.025449</td>\n",
              "    </tr>\n",
              "    <tr>\n",
              "      <th>Vendas</th>\n",
              "      <td>-0.001359</td>\n",
              "      <td>-0.023854</td>\n",
              "      <td>1.000000</td>\n",
              "      <td>0.200795</td>\n",
              "      <td>-0.028190</td>\n",
              "      <td>0.479064</td>\n",
              "      <td>0.677279</td>\n",
              "    </tr>\n",
              "    <tr>\n",
              "      <th>Quantidade</th>\n",
              "      <td>-0.004016</td>\n",
              "      <td>0.012761</td>\n",
              "      <td>0.200795</td>\n",
              "      <td>1.000000</td>\n",
              "      <td>0.008623</td>\n",
              "      <td>0.066253</td>\n",
              "      <td>0.221305</td>\n",
              "    </tr>\n",
              "    <tr>\n",
              "      <th>Desconto</th>\n",
              "      <td>0.013480</td>\n",
              "      <td>0.058443</td>\n",
              "      <td>-0.028190</td>\n",
              "      <td>0.008623</td>\n",
              "      <td>1.000000</td>\n",
              "      <td>-0.219487</td>\n",
              "      <td>-0.030117</td>\n",
              "    </tr>\n",
              "    <tr>\n",
              "      <th>Lucro</th>\n",
              "      <td>0.012497</td>\n",
              "      <td>-0.029961</td>\n",
              "      <td>0.479064</td>\n",
              "      <td>0.066253</td>\n",
              "      <td>-0.219487</td>\n",
              "      <td>1.000000</td>\n",
              "      <td>0.283280</td>\n",
              "    </tr>\n",
              "    <tr>\n",
              "      <th>Frete</th>\n",
              "      <td>-0.017545</td>\n",
              "      <td>-0.025449</td>\n",
              "      <td>0.677279</td>\n",
              "      <td>0.221305</td>\n",
              "      <td>-0.030117</td>\n",
              "      <td>0.283280</td>\n",
              "      <td>1.000000</td>\n",
              "    </tr>\n",
              "  </tbody>\n",
              "</table>\n",
              "</div>\n",
              "      <button class=\"colab-df-convert\" onclick=\"convertToInteractive('df-c849262d-82a9-4de1-806a-79982b955934')\"\n",
              "              title=\"Convert this dataframe to an interactive table.\"\n",
              "              style=\"display:none;\">\n",
              "        \n",
              "  <svg xmlns=\"http://www.w3.org/2000/svg\" height=\"24px\"viewBox=\"0 0 24 24\"\n",
              "       width=\"24px\">\n",
              "    <path d=\"M0 0h24v24H0V0z\" fill=\"none\"/>\n",
              "    <path d=\"M18.56 5.44l.94 2.06.94-2.06 2.06-.94-2.06-.94-.94-2.06-.94 2.06-2.06.94zm-11 1L8.5 8.5l.94-2.06 2.06-.94-2.06-.94L8.5 2.5l-.94 2.06-2.06.94zm10 10l.94 2.06.94-2.06 2.06-.94-2.06-.94-.94-2.06-.94 2.06-2.06.94z\"/><path d=\"M17.41 7.96l-1.37-1.37c-.4-.4-.92-.59-1.43-.59-.52 0-1.04.2-1.43.59L10.3 9.45l-7.72 7.72c-.78.78-.78 2.05 0 2.83L4 21.41c.39.39.9.59 1.41.59.51 0 1.02-.2 1.41-.59l7.78-7.78 2.81-2.81c.8-.78.8-2.07 0-2.86zM5.41 20L4 18.59l7.72-7.72 1.47 1.35L5.41 20z\"/>\n",
              "  </svg>\n",
              "      </button>\n",
              "      \n",
              "  <style>\n",
              "    .colab-df-container {\n",
              "      display:flex;\n",
              "      flex-wrap:wrap;\n",
              "      gap: 12px;\n",
              "    }\n",
              "\n",
              "    .colab-df-convert {\n",
              "      background-color: #E8F0FE;\n",
              "      border: none;\n",
              "      border-radius: 50%;\n",
              "      cursor: pointer;\n",
              "      display: none;\n",
              "      fill: #1967D2;\n",
              "      height: 32px;\n",
              "      padding: 0 0 0 0;\n",
              "      width: 32px;\n",
              "    }\n",
              "\n",
              "    .colab-df-convert:hover {\n",
              "      background-color: #E2EBFA;\n",
              "      box-shadow: 0px 1px 2px rgba(60, 64, 67, 0.3), 0px 1px 3px 1px rgba(60, 64, 67, 0.15);\n",
              "      fill: #174EA6;\n",
              "    }\n",
              "\n",
              "    [theme=dark] .colab-df-convert {\n",
              "      background-color: #3B4455;\n",
              "      fill: #D2E3FC;\n",
              "    }\n",
              "\n",
              "    [theme=dark] .colab-df-convert:hover {\n",
              "      background-color: #434B5C;\n",
              "      box-shadow: 0px 1px 3px 1px rgba(0, 0, 0, 0.15);\n",
              "      filter: drop-shadow(0px 1px 2px rgba(0, 0, 0, 0.3));\n",
              "      fill: #FFFFFF;\n",
              "    }\n",
              "  </style>\n",
              "\n",
              "      <script>\n",
              "        const buttonEl =\n",
              "          document.querySelector('#df-c849262d-82a9-4de1-806a-79982b955934 button.colab-df-convert');\n",
              "        buttonEl.style.display =\n",
              "          google.colab.kernel.accessAllowed ? 'block' : 'none';\n",
              "\n",
              "        async function convertToInteractive(key) {\n",
              "          const element = document.querySelector('#df-c849262d-82a9-4de1-806a-79982b955934');\n",
              "          const dataTable =\n",
              "            await google.colab.kernel.invokeFunction('convertToInteractive',\n",
              "                                                     [key], {});\n",
              "          if (!dataTable) return;\n",
              "\n",
              "          const docLinkHtml = 'Like what you see? Visit the ' +\n",
              "            '<a target=\"_blank\" href=https://colab.research.google.com/notebooks/data_table.ipynb>data table notebook</a>'\n",
              "            + ' to learn more about interactive tables.';\n",
              "          element.innerHTML = '';\n",
              "          dataTable['output_type'] = 'display_data';\n",
              "          await google.colab.output.renderOutput(dataTable, element);\n",
              "          const docLink = document.createElement('div');\n",
              "          docLink.innerHTML = docLinkHtml;\n",
              "          element.appendChild(docLink);\n",
              "        }\n",
              "      </script>\n",
              "    </div>\n",
              "  </div>\n",
              "  "
            ]
          },
          "metadata": {},
          "execution_count": 24
        }
      ]
    },
    {
      "cell_type": "code",
      "source": [
        "#retirando colunas indesejadas para o mapa de calor\n",
        "dfLoja.drop(['ID da Linha','Código Postal'],inplace=True,axis=1)"
      ],
      "metadata": {
        "id": "MQARkB2rI_SS"
      },
      "execution_count": null,
      "outputs": []
    },
    {
      "cell_type": "markdown",
      "source": [
        "Agora vamos criar um mapa de calor para conseguir interpretar melhor os dados de forma mais visual.\n"
      ],
      "metadata": {
        "id": "6n6VSJasNMnz"
      }
    },
    {
      "cell_type": "code",
      "source": [
        "sns.heatmap(dfLoja.corr())"
      ],
      "metadata": {
        "colab": {
          "base_uri": "https://localhost:8080/",
          "height": 286
        },
        "id": "NDsPRsKpKoEp",
        "outputId": "b68ffa79-f31c-42a0-ddc6-f3da447eceb3"
      },
      "execution_count": null,
      "outputs": [
        {
          "output_type": "execute_result",
          "data": {
            "text/plain": [
              "<matplotlib.axes._subplots.AxesSubplot at 0x7ff0f549ed30>"
            ]
          },
          "metadata": {},
          "execution_count": 26
        },
        {
          "output_type": "display_data",
          "data": {
            "text/plain": [
              "<Figure size 432x288 with 2 Axes>"
            ],
            "image/png": "[encoded data removed]"
          },
          "metadata": {
            "needs_background": "light"
          }
        }
      ]
    },
    {
      "cell_type": "markdown",
      "source": [
        "Melhorando o mapa de calor"
      ],
      "metadata": {
        "id": "9yczv6yPOZwo"
      }
    },
    {
      "cell_type": "markdown",
      "source": [
        "Vamos avaliar o quanto uma variável influencia na outra. Lembre que a correlação positiva (em azul mais forte, valores próximos a 1) mostra que quando uma variável aumenta seu valor, a outra também aumenta. Enquanto que a correlação negativa mostra que enquanto uma variável aumenta seu valor, a outra diminui (em azul mais fraco, valores próximos a -0.2).\n",
        "\n",
        "Quando uma variável não possui correlação uma com a outra, o valor é 0.\n",
        "\n",
        "\n",
        "\n"
      ],
      "metadata": {
        "id": "0k6K1-YnWyqZ"
      }
    },
    {
      "cell_type": "code",
      "source": [
        "fig, ax =plt.subplots(figsize =(12,8))\n",
        "sns.heatmap(dfLoja.corr(),cmap='Blues',linewidth= 0.5, annot=True)"
      ],
      "metadata": {
        "colab": {
          "base_uri": "https://localhost:8080/",
          "height": 504
        },
        "id": "2yg35XHGJGTU",
        "outputId": "6fd8e133-1125-4e7e-bc10-71666c26dc30"
      },
      "execution_count": null,
      "outputs": [
        {
          "output_type": "execute_result",
          "data": {
            "text/plain": [
              "<matplotlib.axes._subplots.AxesSubplot at 0x7ff0f709c1c0>"
            ]
          },
          "metadata": {},
          "execution_count": 27
        },
        {
          "output_type": "display_data",
          "data": {
            "text/plain": [
              "<Figure size 864x576 with 2 Axes>"
            ],
            "image/png": "[encoded data removed]"
          },
          "metadata": {
            "needs_background": "light"
          }
        }
      ]
    },
    {
      "cell_type": "markdown",
      "source": [
        "# Conclusão\n",
        "Neste projeto foi possível um melhor entendimento da base de dados, identificar\n",
        "comportamentos e padrões dos consumidores e responder as perguntas de negócio.\n",
        "\n",
        "A análise dos dados permite que se compreenda o mercado e o perfil do público da sua marca, quais as tendências para seu nicho para traçar estratégias mais assertivas.\n"
      ],
      "metadata": {
        "id": "l2wwEn4ah1Xs"
      }
    }
  ]
}